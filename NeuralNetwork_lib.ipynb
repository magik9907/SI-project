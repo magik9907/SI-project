{
 "cells": [
  {
   "cell_type": "code",
   "execution_count": 2,
   "metadata": {},
   "outputs": [],
   "source": [
    "import numpy as np\n",
    "#! pip install pygad\n",
    "import pygad.gann\n",
    "#!pip install sklearn\n",
    "from sklearn import preprocessing\n",
    "#!pip install ipywidgets\n",
    "#!jupyter nbextension enable --py widgetsnbextension\n",
    "#restart anaconda/jupyterlab\n",
    "from ipywidgets import widgets\n",
    "from IPython.display import display, clear_output\n",
    "\n",
    "from math import fabs as fabs\n",
    "import matplotlib.pyplot as plt\n",
    "import math\n",
    "from PIL import Image"
   ]
  },
  {
   "cell_type": "code",
   "execution_count": 3,
   "metadata": {},
   "outputs": [],
   "source": [
    "mincolor = (0,0,1)\n",
    "midcolor = (.95,.95,.95)\n",
    "maxcolor = (1,0,0)\n",
    "\n",
    "# A map of rgb points in your distribution\n",
    "# [distance, (r, g, b)]\n",
    "# distance is percentage from left edge\n",
    "heatmap = [\n",
    "    [0.0, mincolor],\n",
    "    [0.5, midcolor],\n",
    "    [1.00, maxcolor],\n",
    "]\n",
    "\n",
    "width, height = 500, 50\n",
    "\n",
    "def gaussian(x, a, b, c, d=0):\n",
    "    return a * math.exp(-(x - b)**2 / (2 * c**2)) + d\n",
    "\n",
    "def pixel(x, width=100, map=[], spread=1):\n",
    "    width = float(width)\n",
    "    r = sum([gaussian(x, p[1][0], p[0] * width, width/(spread*len(map))) for p in map])\n",
    "    g = sum([gaussian(x, p[1][1], p[0] * width, width/(spread*len(map))) for p in map])\n",
    "    b = sum([gaussian(x, p[1][2], p[0] * width, width/(spread*len(map))) for p in map])\n",
    "    return min(1.0, r), min(1.0, g), min(1.0, b)\n",
    "\n",
    "def drawLegend():\n",
    "    im = Image.new('RGB', (width, height))\n",
    "    ld = im.load()\n",
    "\n",
    "    for x in range(im.size[0]):\n",
    "        r, g, b = pixel(x, width=im.size[0], map=heatmap)\n",
    "        r, g, b = [int(256*v) for v in (r, g, b)]\n",
    "        for y in range(im.size[1]):\n",
    "            ld[x, y] = r, g, b\n",
    "\n",
    "    im.save('grad.png')\n",
    "    display(im)"
   ]
  },
  {
   "cell_type": "code",
   "execution_count": 4,
   "metadata": {},
   "outputs": [],
   "source": [
    "def draw_neural_net(ax, left, right, bottom, top, layer_sizes, solution):\n",
    "    '''\n",
    "    Draw a neural network cartoon using matplotilb.\n",
    "    \n",
    "    :usage:\n",
    "        >>> fig = plt.figure(figsize=(12, 12))\n",
    "        >>> draw_neural_net(fig.gca(), .1, .9, .1, .9, [4, 7, 2])\n",
    "    \n",
    "    :parameters:\n",
    "        - ax : matplotlib.axes.AxesSubplot\n",
    "            The axes on which to plot the cartoon (get e.g. by plt.gca())\n",
    "        - left : float\n",
    "            The center of the leftmost node(s) will be placed here\n",
    "        - right : float\n",
    "            The center of the rightmost node(s) will be placed here\n",
    "        - bottom : float\n",
    "            The center of the bottommost node(s) will be placed here\n",
    "        - top : float\n",
    "            The center of the topmost node(s) will be placed here\n",
    "        - layer_sizes : list of int\n",
    "            List of layer sizes, including input and output dimensionality\n",
    "    '''\n",
    "    #normalized = solution + np.absolute(np.min(solution))\n",
    "    maxsol = np.max(np.absolute(solution))\n",
    "    normalized = solution / maxsol\n",
    "    normalizedWidth = normalized * ((width/2)-1)\n",
    "    \n",
    "    n_layers = len(layer_sizes)\n",
    "    v_spacing = (top - bottom)/float(max(layer_sizes))\n",
    "    h_spacing = (right - left)/float(len(layer_sizes) - 1)\n",
    "    # Nodes\n",
    "    for n, layer_size in enumerate(layer_sizes):\n",
    "        layer_top = v_spacing*(layer_size - 1)/2. + (top + bottom)/2.\n",
    "        for m in range(layer_size):\n",
    "            circle = plt.Circle((n*h_spacing + left, layer_top - m*v_spacing), v_spacing/4.,\n",
    "                                color='w', ec='k', zorder=4)\n",
    "            ax.add_artist(circle)\n",
    "    # Edges\n",
    "    i = 0\n",
    "    for n, (layer_size_a, layer_size_b) in enumerate(zip(layer_sizes[:-1], layer_sizes[1:])):\n",
    "        layer_top_a = v_spacing*(layer_size_a - 1)/2. + (top + bottom)/2.\n",
    "        layer_top_b = v_spacing*(layer_size_b - 1)/2. + (top + bottom)/2.\n",
    "        \n",
    "        for m in range(layer_size_a):\n",
    "            for o in range(layer_size_b):\n",
    "                line = plt.Line2D([n*h_spacing + left, (n + 1)*h_spacing + left],\n",
    "                                  [layer_top_a - m*v_spacing, layer_top_b - o*v_spacing])\n",
    "                if solution[i] >= 0:\n",
    "                    r, g, b = pixel(np.absolute(normalizedWidth[i]+(width/2)), width=width, map=heatmap)\n",
    "                    line.set_color((r,g,b, 1))\n",
    "                else:\n",
    "                    r, g, b = pixel((width/2)-np.absolute(normalizedWidth[i]), width=width, map=heatmap)\n",
    "                    line.set_color((r,g,b, 1))\n",
    "                i += 1\n",
    "                ax.add_artist(line)"
   ]
  },
  {
   "cell_type": "code",
   "execution_count": 5,
   "metadata": {},
   "outputs": [],
   "source": [
    "#solutions_num - liczba rozwiązań np. 5\n",
    "#input_num - liczba neuronów w warstwie wejściowej np. 3\n",
    "#hidden_num - ilość neuronów w warstwach ukrytych np. [2] lub [5, 2]\n",
    "#output_num - liczba neuronów w warstwie wyjściowej np. 1\n",
    "#hidden_act - rodzaj funkcji aktywacji dla warstw ukrytych np. [\"relu\"] lub [\"sigmoid\", \"relu\"] (\"sigmoid\", \"relu\", \"softmax\", \"None\")\n",
    "class NeuralNetwork:\n",
    "    # Konstruktor sieci neuronowej\n",
    "    def __init__(self, input_data, output_data, solutions_num, input_layers_num, hidden_layers_num, output_layers_num, hidden_layers_act, output_layers_act):\n",
    "        if len(hidden_layers_num) != len(hidden_layers_act):\n",
    "            raise Exception('Number of hidden layers must be equal number of hidden activation functions')\n",
    "        \n",
    "        if solutions_num < 2:\n",
    "            raise Exception('At least one value is required')\n",
    "        \n",
    "        # Ustawienie danych wejściowych\n",
    "        self.input_data = input_data\n",
    "        # Ustawienie danych wyjściowych ????????????\n",
    "        self.output_data = output_data\n",
    "        \n",
    "        self.input_lay_num = input_layers_num\n",
    "        self.hidden_lay_num = hidden_layers_num\n",
    "        self.output_lay_num = output_layers_num\n",
    "        # Tworzenie sieci neuronowych\n",
    "        self.instance = pygad.gann.GANN(num_solutions=solutions_num,\n",
    "                                num_neurons_input=input_layers_num,\n",
    "                                num_neurons_hidden_layers=hidden_layers_num,\n",
    "                                num_neurons_output=output_layers_num,\n",
    "                                hidden_activations=hidden_layers_act,\n",
    "                                output_activation=output_layers_act)\n",
    "        # Tablica populacji\n",
    "        self.population_array = pygad.gann.population_as_vectors(population_networks=self.instance.population_networks)\n",
    "    # Wypisanie wag każdej sieci\n",
    "    def PrintWeights(self):\n",
    "        for i, val in enumerate(self.population_array):\n",
    "            print(f'Network number: {i}')\n",
    "            for j, value in enumerate(val):\n",
    "                print(f'Weight {j}: {value}')\n",
    "            print(\"\\n\")\n",
    "\n",
    "# neural_network - instancja klasy NeuralNetwork\n",
    "# generation_num - liczba generacji(iteracji)\n",
    "# parent_num - liczba rodziców z których powstaną nowe osobniki\n",
    "# mutation_perc - procent szansy na mutację\n",
    "class GeneticAlgorithm:\n",
    "    def __init__(self, neural_network, generation_num, parent_num, mutation_perc):\n",
    "        if parent_num > neural_network.instance.num_solutions:\n",
    "            raise Exception('parents number cannot be higher than population number')\n",
    "        self.nn = neural_network\n",
    "        self.instance = pygad.GA(num_generations=generation_num, \n",
    "                       num_parents_mating=parent_num, \n",
    "                       initial_population=neural_network.population_array.copy(),\n",
    "                       fitness_func=fitness_function,\n",
    "                       mutation_percent_genes=mutation_perc,\n",
    "                       on_generation=on_generation)\n",
    "    \n",
    "    def run(self):\n",
    "        self.instance.run()\n",
    "    \n",
    "    def plot_result(self):\n",
    "        self.instance.plot_result()\n",
    "        \n",
    "    def best_result(self):\n",
    "        solution, solution_fitness, solution_idx = self.instance.best_solution()\n",
    "        print(f'Solution: {solution}')\n",
    "        print(f'Solution fitness: {solution_fitness}')\n",
    "        print(f'Solution index: {solution_idx}')\n",
    "        \n",
    "        layers = np.array(self.nn.input_lay_num)\n",
    "        layers = np.append(layers, self.nn.hidden_lay_num)\n",
    "        layers = np.append(layers, self.nn.output_lay_num)\n",
    "        \n",
    "        fig = plt.figure(figsize=(12, 12))\n",
    "        ax = fig.gca()\n",
    "        ax.axis('off')\n",
    "        draw_neural_net(ax, .1, .9, .1, .9, layers, solution)\n",
    "        fig.savefig('nn.png')\n",
    "        drawLegend()\n",
    "        maxvalue = np.max(np.absolute(solution))\n",
    "        print(\"Max value: \" + str(maxvalue))\n",
    "        print(\"Min value: \" + str((-maxvalue)))\n",
    "        display(fig)\n",
    "        \n",
    "# Obliczanie funkcji dopasowania\n",
    "def fitness_function(solution, solution_index):\n",
    "    global nn\n",
    "    predictions = pygad.nn.predict(last_layer=nn.instance.population_networks[solution_index],\n",
    "                                   data_inputs=nn.input_data,\n",
    "                                   problem_type=\"classification\")\n",
    "    correct_predictions = np.where(predictions == nn.output_data)[0].size\n",
    "    solution_fitness = (correct_predictions/nn.output_data.size)*100\n",
    "    return solution_fitness\n",
    "\n",
    "# Funkcja aktualizująca wagi\n",
    "def on_generation(ga_instance):\n",
    "    global nn, ga\n",
    "    \n",
    "    population_matrices = pygad.gann.population_as_matrices(population_networks=nn.instance.population_networks,\n",
    "                                                            population_vectors=ga.instance.population)\n",
    "    nn.instance.update_population_trained_weights(population_trained_weights=population_matrices)\n",
    "\n",
    "    #print(\"Generation = {generation}\".format(generation=ga.instance.generations_completed))\n",
    "    #print(\"Accuracy   = {fitness}\".format(fitness=ga.instance.best_solution()[1]))"
   ]
  },
  {
   "cell_type": "code",
   "execution_count": 6,
   "metadata": {},
   "outputs": [],
   "source": [
    "data = np.genfromtxt('diabetes.csv', delimiter=',')\n",
    "cols = data[:,:8] # pierwsze 8 kolumn\n",
    "last_cols = data[:,8] # ostatnia kolumna (nr 9)\n",
    "min_max_scaler = preprocessing.MinMaxScaler()\n",
    "data_inputs = min_max_scaler.fit_transform(cols.T).T\n",
    "data_outputs = last_cols"
   ]
  },
  {
   "cell_type": "code",
   "execution_count": 7,
   "metadata": {},
   "outputs": [
    {
     "data": {
      "application/vnd.jupyter.widget-view+json": {
       "model_id": "133942963c594d67911550acea761706",
       "version_major": 2,
       "version_minor": 0
      },
      "text/plain": [
       "IntText(value=10, description='Solution number(int)', layout=Layout(width='70%'), style=DescriptionStyle(descr…"
      ]
     },
     "metadata": {},
     "output_type": "display_data"
    },
    {
     "data": {
      "application/vnd.jupyter.widget-view+json": {
       "model_id": "b94f520ab6dc4224935b6491809dda74",
       "version_major": 2,
       "version_minor": 0
      },
      "text/plain": [
       "IntText(value=8, description='Input layers number(int)', layout=Layout(width='70%'), style=DescriptionStyle(de…"
      ]
     },
     "metadata": {},
     "output_type": "display_data"
    },
    {
     "data": {
      "application/vnd.jupyter.widget-view+json": {
       "model_id": "51665e0138fd40daaca224d8c95bc2fa",
       "version_major": 2,
       "version_minor": 0
      },
      "text/plain": [
       "Text(value='2, 2', description='Hidden layers number(ints seperated by comma)', layout=Layout(width='70%'), st…"
      ]
     },
     "metadata": {},
     "output_type": "display_data"
    },
    {
     "data": {
      "application/vnd.jupyter.widget-view+json": {
       "model_id": "4234683fb0ed498f8773300c9e45d749",
       "version_major": 2,
       "version_minor": 0
      },
      "text/plain": [
       "IntText(value=2, description='Output layers number(int)', layout=Layout(width='70%'), style=DescriptionStyle(d…"
      ]
     },
     "metadata": {},
     "output_type": "display_data"
    },
    {
     "data": {
      "application/vnd.jupyter.widget-view+json": {
       "model_id": "078ff4b70e3046f8a01ef6cca5144c75",
       "version_major": 2,
       "version_minor": 0
      },
      "text/plain": [
       "Text(value='relu, relu', description='Hidden layers activation function(strings separated by comma)', layout=L…"
      ]
     },
     "metadata": {},
     "output_type": "display_data"
    },
    {
     "data": {
      "application/vnd.jupyter.widget-view+json": {
       "model_id": "f218eaf977c749b08cf2428db835fdab",
       "version_major": 2,
       "version_minor": 0
      },
      "text/plain": [
       "Text(value='softmax', description='Output layers activation function(string)', layout=Layout(width='70%'), sty…"
      ]
     },
     "metadata": {},
     "output_type": "display_data"
    },
    {
     "data": {
      "application/vnd.jupyter.widget-view+json": {
       "model_id": "e7a94c7e71004a739b031f22d2ca6498",
       "version_major": 2,
       "version_minor": 0
      },
      "text/plain": [
       "IntText(value=100, description='Generations number(int)', layout=Layout(width='70%'), style=DescriptionStyle(d…"
      ]
     },
     "metadata": {},
     "output_type": "display_data"
    },
    {
     "data": {
      "application/vnd.jupyter.widget-view+json": {
       "model_id": "1c3b828ad55d4485a132d62dff4286ce",
       "version_major": 2,
       "version_minor": 0
      },
      "text/plain": [
       "IntText(value=5, description='Parents number(int)', layout=Layout(width='70%'), style=DescriptionStyle(descrip…"
      ]
     },
     "metadata": {},
     "output_type": "display_data"
    },
    {
     "data": {
      "application/vnd.jupyter.widget-view+json": {
       "model_id": "74d43510a17741cab0607f684cd5ef77",
       "version_major": 2,
       "version_minor": 0
      },
      "text/plain": [
       "IntText(value=5, description='Mutation percentage(int)', layout=Layout(width='70%'), style=DescriptionStyle(de…"
      ]
     },
     "metadata": {},
     "output_type": "display_data"
    },
    {
     "data": {
      "application/vnd.jupyter.widget-view+json": {
       "model_id": "6c48948de2e84092b2124d1e3ef677c6",
       "version_major": 2,
       "version_minor": 0
      },
      "text/plain": [
       "Button(button_style='success', description='Submit', style=ButtonStyle())"
      ]
     },
     "metadata": {},
     "output_type": "display_data"
    },
    {
     "data": {
      "application/vnd.jupyter.widget-view+json": {
       "model_id": "91b0430c59bd47c9949b8b1e79141c6b",
       "version_major": 2,
       "version_minor": 0
      },
      "text/plain": [
       "Output()"
      ]
     },
     "metadata": {},
     "output_type": "display_data"
    }
   ],
   "source": [
    "style = {'description_width': 'initial'}\n",
    "layout=widgets.Layout(width='70%')\n",
    "\n",
    "# Defining inputs\n",
    "solnum = widgets.IntText(value='10', description='Solution number(int)', style=style, layout=layout)\n",
    "iln = widgets.IntText(value='8', description='Input layers number(int)', style=style, layout=layout)\n",
    "hln = widgets.Text(value='2, 2', description='Hidden layers number(ints seperated by comma)', style=style, layout=layout)\n",
    "oln = widgets.IntText(value='2', description='Output layers number(int)', style=style, layout=layout)\n",
    "hla = widgets.Text(value='relu, relu', description='Hidden layers activation function(strings separated by comma)', style=style, layout=layout)\n",
    "ola = widgets.Text(value='softmax', description='Output layers activation function(string)', style=style, layout=layout)\n",
    "gennum = widgets.IntText(value='100', description='Generations number(int)', style=style, layout=layout)\n",
    "parnum = widgets.IntText(value='5', description='Parents number(int)', style=style, layout=layout)\n",
    "mutperc = widgets.IntText(value='5', description='Mutation percentage(int)', style=style, layout=layout)\n",
    "\n",
    "# Displaying inputs\n",
    "display(solnum)\n",
    "display(iln)\n",
    "display(hln)\n",
    "display(oln)\n",
    "display(hla)\n",
    "display(ola)\n",
    "display(gennum)\n",
    "display(parnum)\n",
    "display(mutperc)\n",
    "\n",
    "# Defining button\n",
    "btn = widgets.Button(description=\"Submit\", button_style='success')\n",
    "\n",
    "# Defining output field\n",
    "out = widgets.Output()\n",
    "\n",
    "# Button handler\n",
    "def on_btn_clicked(b):\n",
    "    with out:\n",
    "        global nn, ga\n",
    "        # Clearing output\n",
    "        clear_output()\n",
    "        print(\"Ładowanie...\")\n",
    "        \n",
    "        # Layers to int array\n",
    "        a = hln.value.split(',')\n",
    "        a = list(map(int, a))\n",
    "        \n",
    "        # Layers act. func. to string array\n",
    "        b = hla.value.replace(\" \", \"\").split(',')\n",
    "        \n",
    "        # Creating neural network\n",
    "        nn = NeuralNetwork(input_data=data_inputs, \n",
    "                      output_data=data_outputs, \n",
    "                      solutions_num=solnum.value, \n",
    "                      input_layers_num=iln.value, \n",
    "                      hidden_layers_num=a, \n",
    "                      output_layers_num=oln.value,\n",
    "                      hidden_layers_act=b, \n",
    "                      output_layers_act=ola.value)\n",
    "\n",
    "        # Creating genetic algorithm\n",
    "        ga = GeneticAlgorithm(neural_network=nn,\n",
    "                          generation_num=gennum.value,\n",
    "                          parent_num=parnum.value,\n",
    "                          mutation_perc=mutperc.value,\n",
    "                          save_best_solutions = True)\n",
    "        ga.run()\n",
    "        clear_output()\n",
    "        ga.plot_result()\n",
    "        ga.best_result()\n",
    "\n",
    "# Setting handler\n",
    "btn.on_click(on_btn_clicked)\n",
    "\n",
    "# Displaying button and output\n",
    "display(btn)\n",
    "display(out)"
   ]
  },
  {
   "cell_type": "code",
   "execution_count": null,
   "metadata": {},
   "outputs": [],
   "source": [
    "import tkinter as tk\n",
    "\n",
    "root= tk.Tk()\n",
    "\n",
    "fileName_var = tk.StringVar()\n",
    "popNum_var = tk.StringVar()\n",
    "shape_var = tk.StringVar()\n",
    "actFunc_var = tk.StringVar()\n",
    "genNum_var = tk.StringVar()\n",
    "mutPrc_var = tk.StringVar()\n",
    "SaveBest_var = tk.IntVar()\n",
    "\n",
    "\n",
    "def hello ():\n",
    "    data = np.genfromtxt(fileName_var.get(), delimiter=',')\n",
    "    min_max_scaler = preprocessing.MinMaxScaler()\n",
    "    cols = min_max_scaler.fit_transform(data[:,:8].T).T   # pierwsze 8 kolumn\n",
    "    last_col = data[:,8]\n",
    "    figure1 = plt.figure(figsize=(4,3), dpi=100) \n",
    "    subplot1 = figure1.add_subplot(111)\n",
    "    tmpshape = shape_var.get().split(\", \")\n",
    "    shape = []\n",
    "    if tmpshape != ['']:\n",
    "        for num in tmpshape:\n",
    "            shape.append(int(num))\n",
    "    x, y, retText = GeneticAlgorithm(cols, last_col, int(popNum_var.get()), shape, actFunc_var.get(), int(genNum_var.get()), int(mutPrc_var.get()), bool(SaveBest_var.get()))\n",
    "    subplot1.plot(x, y)\n",
    "    subplot1.set_xlabel(\"Numer generacji\")\n",
    "    subplot1.set_ylabel(\"Procent poprawnie przewidzianych\")\n",
    "    subplot1.set_title(\"Postęp programu\")\n",
    "    plot = FigureCanvasTkAgg(figure1, root) \n",
    "    plot.get_tk_widget().grid(row = 7, column=0)\n",
    "    text = tk.Text(root, height = 4, width=20)\n",
    "    text.insert(tk.END, retText)\n",
    "    text.grid(row = 7, column=1)\n",
    "    \n",
    "\n",
    "fileName_label = tk.Label(root, text = 'Nazwa pliku (wraz zrozszerzeniem)', font=('calibre',10, 'bold'))\n",
    "fileName_entry = tk.Entry(root,textvariable = fileName_var, font=('calibre',10,'normal'))\n",
    "\n",
    "popNum_label = tk.Label(root, text = 'Liczba osobników w populacji', font=('calibre',10, 'bold'))\n",
    "popNum_entry = tk.Entry(root,textvariable = popNum_var, font=('calibre',10,'normal'))\n",
    "\n",
    "shape_label = tk.Label(root, text = 'Warstwy ukryte, każda warstwa oddzielona \\', \\'', font=('calibre',10, 'bold'))\n",
    "shape_entry = tk.Entry(root,textvariable = shape_var, font=('calibre',10,'normal'))\n",
    "\n",
    "actFunc_label = tk.Label(root, text = 'Funkcja aktywacyjna(relu lub sigmoid)', font=('calibre',10, 'bold'))\n",
    "actFunc_entry = tk.Entry(root,textvariable = actFunc_var, font=('calibre',10,'normal'))\n",
    "\n",
    "genNum_label = tk.Label(root, text = 'Liczba generacji', font=('calibre',10, 'bold'))\n",
    "genNum_entry = tk.Entry(root,textvariable = genNum_var, font=('calibre',10,'normal'))\n",
    "\n",
    "mutPrc_label = tk.Label(root, text = 'Prawdopodobieństwo mutacji w procentach', font=('calibre',10, 'bold'))\n",
    "mutPrc_entry = tk.Entry(root,textvariable = mutPrc_var, font=('calibre',10,'normal'))\n",
    "\n",
    "c = tk.Checkbutton(root, text=\"Elitaryzm\", variable=SaveBest_var, onvalue=1, offvalue=0)\n",
    "\n",
    "fileName_label.grid(row=0, column =0)\n",
    "fileName_entry.grid(row=0, column =1)\n",
    "popNum_label.grid(row=1, column =0)\n",
    "popNum_entry.grid(row=1, column =1)\n",
    "shape_label.grid(row=2, column =0)\n",
    "shape_entry.grid(row=2, column =1)\n",
    "actFunc_label.grid(row=3, column =0)\n",
    "actFunc_entry.grid(row=3, column =1)\n",
    "genNum_label.grid(row=4, column =0)\n",
    "genNum_entry.grid(row=4, column =1)\n",
    "mutPrc_label.grid(row=5, column =0)\n",
    "mutPrc_entry.grid(row=5, column =1)\n",
    "c.grid(row=6, column = 0)\n",
    "\n",
    "button1 = tk.Button(text='Submit',command=hello, bg='brown',fg='white')\n",
    "button1.grid(row = 6, column = 1)\n",
    "\n",
    "root.mainloop()"
   ]
  }
 ],
 "metadata": {
  "kernelspec": {
   "display_name": "Python 3",
   "language": "python",
   "name": "python3"
  },
  "language_info": {
   "codemirror_mode": {
    "name": "ipython",
    "version": 3
   },
   "file_extension": ".py",
   "mimetype": "text/x-python",
   "name": "python",
   "nbconvert_exporter": "python",
   "pygments_lexer": "ipython3",
   "version": "3.8.3"
  }
 },
 "nbformat": 4,
 "nbformat_minor": 4
}
