{
 "cells": [
  {
   "cell_type": "code",
   "execution_count": 17,
   "metadata": {},
   "outputs": [],
   "source": [
    "import numpy as np\n",
    "#! pip install pygad\n",
    "import pygad.gann\n",
    "from sklearn import preprocessing"
   ]
  },
  {
   "cell_type": "code",
   "execution_count": 10,
   "metadata": {},
   "outputs": [],
   "source": [
    "#solutions_num - liczba rozwiązań np. 5\n",
    "#input_num - liczba neuronów w warstwie wejściowej np. 3\n",
    "#hidden_num - ilość neuronów w warstwach ukrytych np. [2] lub [5, 2]\n",
    "#output_num - liczba neuronów w warstwie wyjściowej np. 1\n",
    "#hidden_act - rodzaj funkcji aktywacji dla warstw ukrytych np. [\"relu\"] lub [\"sigmoid\", \"relu\"] (\"sigmoid\", \"relu\", \"softmax\", \"None\")\n",
    "class NeuralNetwork:\n",
    "    # Konstruktor sieci neuronowej\n",
    "    def __init__(self, input_data, output_data, solutions_num, input_layers_num, hidden_layers_num, output_layers_num, hidden_layers_act, output_layers_act):\n",
    "        if len(hidden_layers_num) != len(hidden_layers_act):\n",
    "            raise Exception('Number of hidden layers must be equal not number of hidden activation functions')\n",
    "        \n",
    "        if solutions_num < 2:\n",
    "            raise Exception('At least one value is required')\n",
    "        \n",
    "        # Ustawienie danych wejściowych\n",
    "        self.input_data = input_data\n",
    "        # Ustawienie danych wyjściowych ????????????\n",
    "        self.output_data = output_data\n",
    "        # Tworzenie sieci neuronowych\n",
    "        self.instance = pygad.gann.GANN(num_solutions=solutions_num,\n",
    "                                num_neurons_input=input_layers_num,\n",
    "                                num_neurons_hidden_layers=hidden_layers_num,\n",
    "                                num_neurons_output=output_layers_num,\n",
    "                                hidden_activations=hidden_layers_act,\n",
    "                                output_activation=output_layers_act)\n",
    "        # Tablica populacji\n",
    "        self.population_array = pygad.gann.population_as_vectors(population_networks=self.instance.population_networks)\n",
    "    \n",
    "    # Wypisanie wag każdej sieci\n",
    "    def PrintWeights(self):\n",
    "        for i, val in enumerate(self.population_array):\n",
    "            print(f'Network number: {i}')\n",
    "            for j, value in enumerate(val):\n",
    "                print(f'Weight {j}: {value}')\n",
    "            print(\"\\n\")\n",
    "\n",
    "# neural_network - instancja klasy NeuralNetwork\n",
    "# generation_num - liczba generacji(iteracji)\n",
    "# parent_num - liczba rodziców z których powstaną nowe osobniki\n",
    "# mutation_perc - procent szansy na mutację\n",
    "class GeneticAlgorithm:\n",
    "    def __init__(self, neural_network, generation_num, parent_num, mutation_perc):\n",
    "        if parent_num > neural_network.instance.num_solutions:\n",
    "            raise Exception('parents number cannot be higher than population number')\n",
    "        \n",
    "        self.instance = pygad.GA(num_generations=generation_num, \n",
    "                       num_parents_mating=parent_num, \n",
    "                       initial_population=neural_network.population_array.copy(),\n",
    "                       fitness_func=fitness_function,\n",
    "                       mutation_percent_genes=mutation_perc,\n",
    "                       on_generation=on_generation)\n",
    "    \n",
    "    def run(self):\n",
    "        self.instance.run()\n",
    "    \n",
    "    def plot_result(self):\n",
    "        self.instance.plot_result()\n",
    "        \n",
    "    def best_result(self):\n",
    "        solution, solution_fitness, solution_idx = self.instance.best_solution()\n",
    "        print(f'Solution: {solution}')\n",
    "        print(f'Solution fitness: {solution_fitness}')\n",
    "        print(f'Solution index: {solution_idx}')\n",
    "        \n",
    "# Obliczanie funkcji dopasowania\n",
    "def fitness_function(solution, solution_index):\n",
    "    global nn\n",
    "    predictions = pygad.nn.predict(last_layer=nn.instance.population_networks[solution_index],\n",
    "                                   data_inputs=nn.input_data,\n",
    "                                   problem_type=\"classification\")\n",
    "    correct_predictions = np.where(predictions == nn.output_data)[0].size\n",
    "    solution_fitness = (correct_predictions/nn.output_data.size)*100\n",
    "    return solution_fitness\n",
    "\n",
    "# Funkcja aktualizująca wagi\n",
    "def on_generation(ga_instance):\n",
    "    global nn, ga\n",
    "    \n",
    "    population_matrices = pygad.gann.population_as_matrices(population_networks=nn.instance.population_networks,\n",
    "                                                            population_vectors=ga.instance.population)\n",
    "    nn.instance.update_population_trained_weights(population_trained_weights=population_matrices)\n",
    "\n",
    "    #print(\"Generation = {generation}\".format(generation=ga.instance.generations_completed))\n",
    "    #print(\"Accuracy   = {fitness}\".format(fitness=ga.instance.best_solution()[1]))"
   ]
  },
  {
   "cell_type": "code",
   "execution_count": 19,
   "metadata": {},
   "outputs": [],
   "source": [
    "data = np.genfromtxt('diabetes.csv', delimiter=',')\n",
    "cols = data[:,:8] # pierwsze 8 kolumn\n",
    "last_cols = data[:,8] # ostatnia kolumna (nr 9)\n",
    "min_max_scaler = preprocessing.MinMaxScaler()\n",
    "data_inputs = min_max_scaler.fit_transform(cols.T).T\n",
    "data_outputs = last_cols"
   ]
  },
  {
   "cell_type": "code",
   "execution_count": 21,
   "metadata": {},
   "outputs": [
    {
     "data": {
      "image/png": "[encoded data removed]",
      "text/plain": [
       "<Figure size 432x288 with 1 Axes>"
      ]
     },
     "metadata": {
      "needs_background": "light"
     },
     "output_type": "display_data"
    },
    {
     "name": "stdout",
     "output_type": "stream",
     "text": [
      "Solution: [-0.03538156 -0.08837186  1.29537535  0.68798024  0.06726199  1.01937767\n",
      "  0.00899498 -0.07486685 -0.08399084  0.04073438  0.02539707 -0.04693699\n",
      "  0.01311601 -0.02412997 -0.0944978  -0.59802891 -0.04137133 -0.28059629\n",
      "  0.01082801  0.13650375]\n",
      "Solution fitness: 66.40625\n",
      "Solution index: 0\n"
     ]
    }
   ],
   "source": [
    "nn = NeuralNetwork(input_data=data_inputs, \n",
    "                  output_data=data_outputs, \n",
    "                  solutions_num=10, \n",
    "                  input_layers_num=8, \n",
    "                  hidden_layers_num=[2], \n",
    "                  output_layers_num=2,\n",
    "                  hidden_layers_act=[\"relu\"], \n",
    "                  output_layers_act=\"softmax\")\n",
    "\n",
    "ga = GeneticAlgorithm(neural_network=nn,\n",
    "                      generation_num=500,\n",
    "                      parent_num=2,\n",
    "                      mutation_perc=5)\n",
    "ga.run()\n",
    "ga.plot_result()\n",
    "ga.best_result()"
   ]
  },
  {
   "cell_type": "code",
   "execution_count": null,
   "metadata": {},
   "outputs": [],
   "source": []
  }
 ],
 "metadata": {
  "kernelspec": {
   "display_name": "Python 3",
   "language": "python",
   "name": "python3"
  },
  "language_info": {
   "codemirror_mode": {
    "name": "ipython",
    "version": 3
   },
   "file_extension": ".py",
   "mimetype": "text/x-python",
   "name": "python",
   "nbconvert_exporter": "python",
   "pygments_lexer": "ipython3",
   "version": "3.8.3"
  }
 },
 "nbformat": 4,
 "nbformat_minor": 4
}
