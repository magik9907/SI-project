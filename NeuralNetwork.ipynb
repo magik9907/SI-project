{
  "cells": [
    {
      "cell_type": "code",
      "execution_count": 1,
      "metadata": {},
      "outputs": [],
      "source": [
        "import numpy as np\n",
        "import scipy as scp\n",
        "from random import seed\n",
        "from random import random\n",
        "from random import randrange\n",
        "from random import uniform"
      ]
    },
    {
      "cell_type": "code",
      "execution_count": 66,
      "metadata": {},
      "outputs": [],
      "source": [
        "class NeuralNetwork:\n",
        "    class BaseNode:\n",
        "        def __init__(self, outer, function):\n",
        "            self.outer = outer\n",
        "            self.function = function\n",
        "            self.bias = uniform(-1,1)\n",
        "    class StartNode(BaseNode):\n",
        "        def __init__(self, outer, function):\n",
        "            super().__init__(outer, function)\n",
        "            self.values = []\n",
        "            self.weightIndexes = []\n",
        "        def setWeightIndexes(self, weightIndexes):\n",
        "            self.weightIndexes = weightIndexes\n",
        "        def setVal(self, val):\n",
        "            self.values = val\n",
        "        def getResult(self):\n",
        "            if not self.values:\n",
        "                raise Exception('No values')\n",
        "            else:\n",
        "                sum = self.bias\n",
        "                for i in range(len(self.values)):\n",
        "                    sum = self.outer.genes[self.weightIndexes[i]]*self.values[i]\n",
        "            return self.function(sum)\n",
        "        def mutateBias(self, probability):\n",
        "            if random() < probability:\n",
        "                self.bias *= uniform(0, 2)\n",
        "    class Node(BaseNode):\n",
        "        def __init__(self, outer, function):\n",
        "            super().__init__(outer, function)\n",
        "            self.prevNodes = []\n",
        "            self.weightIndexes = []\n",
        "        def addPrevNode(self, node):\n",
        "            self.prevNodes.append(node)\n",
        "        def addPrevNodes(self, nodes, weightIndexes):\n",
        "            for n in nodes:\n",
        "                self.addPrevNode(n)\n",
        "            self.weightIndexes = weightIndexes\n",
        "        def getResult(self):\n",
        "            if not self.prevNodes:\n",
        "                raise Exception('No previous nodes')\n",
        "            else:\n",
        "                sum = self.bias\n",
        "                for i in range(len(self.prevNodes)):\n",
        "                    sum += self.outer.genes[self.weightIndexes[i]]*self.prevNodes[i].getResult()\n",
        "            return self.function(sum)\n",
        "        def mutateBias(self, probability):\n",
        "            if random() < probability:\n",
        "                self.bias *= uniform(0, 2)\n",
        "            for n in self.prevNodes:\n",
        "                n.mutateBias(probability)\n",
        "    def __init__(self, noOfValues, shape, function):\n",
        "        if noOfValues < 1:\n",
        "            raise Exception('At least one value is required')\n",
        "        self.noOfValues = noOfValues\n",
        "        self.shape = shape\n",
        "        self.genes = []\n",
        "        self.startNodes = []\n",
        "        if not shape:\n",
        "            for i in range(noOfValues):\n",
        "                self.genes.append(uniform(-1,1))\n",
        "            self.startNodes.append(self.StartNode(self, function))\n",
        "            self.endNode = self.startNodes[0]\n",
        "            self.endNode.setWeightIndexes(list(range(noOfValues)))\n",
        "        else:\n",
        "            for i in range(shape[0]):\n",
        "                self.startNodes.append(self.StartNode(self, function))\n",
        "                weightIndexes = list(range(noOfValues))\n",
        "                length = len(self.genes)-1\n",
        "                for j in range(noOfValues):\n",
        "                    weightIndexes[j] += length\n",
        "                    self.genes.append(uniform(-1,1))\n",
        "                self.startNodes[i].setWeightIndexes(weightIndexes)\n",
        "            shape.remove(shape[0])\n",
        "            prev = self.startNodes\n",
        "            lastIndex = len(self.genes)-1\n",
        "            for n in shape:\n",
        "                if n < 1:\n",
        "                    raise Exception('No layer can have less than one node')\n",
        "                tmp = []\n",
        "                for i in range(n):\n",
        "                    tmp.append(self.Node(self, function))\n",
        "                    weightIndexes = list(range(len(prev)))\n",
        "                    length = len(self.genes)-1\n",
        "                    for j in range(len(prev)):\n",
        "                        weightIndexes[j] += length\n",
        "                        self.genes.append(uniform(-1,1))\n",
        "                    tmp[i].addPrevNodes(prev, weightIndexes)\n",
        "                prev = tmp\n",
        "            self.endNode = self.Node(self, function)\n",
        "            weightIndexes = list(range(len(prev)))\n",
        "            length = len(self.genes)-1\n",
        "            for j in range(len(prev)):\n",
        "                weightIndexes[j] += length\n",
        "                self.genes.append(uniform(-1,1))\n",
        "            self.endNode.addPrevNodes(prev, weightIndexes)\n",
        "    def getResult(self):\n",
        "        return self.endNode.getResult()\n",
        "    def setVal(self, values):\n",
        "        for n in self.startNodes:\n",
        "            n.setVal(values)\n",
        "    def mutate(self, probability):\n",
        "        for i in range(len(self.genes)):\n",
        "            if random() < probability:\n",
        "                self.genes[i] *= uniform(0, 2)\n",
        "        self.endNode.mutateBias(probability)\n",
        "    def breed(network1, network2, mutProb):\n",
        "        if network1.shape != network2.shape or network1.noOfValues != network2.noOfValues:\n",
        "            raise Exception('Networks have different shapes or functions!')\n",
        "        for i in range(len(network1.genes)):\n",
        "            network1.genes[i] += network2.genes[i]\n",
        "            network1.genes[i] /= 2\n",
        "        endNode = breed(network1.endNode, network2.endNode)\n",
        "        network1.endNode = endNode\n",
        "        for i in range(len(network1.shape)):\n",
        "            endNode = endNode.prevNodes[0]\n",
        "        network1.startNodes = endNode.prevNodes\n",
        "        network1.mutate(mutProb)\n",
        "        return network1\n",
        "def breed(node1, node2):\n",
        "    node1.bias += node2.bias\n",
        "    node1.bias /= 2\n",
        "    if isinstance(node1, NeuralNetwork.Node) and isinstance(node2, NeuralNetwork.Node):\n",
        "        for i in range(len(node1.prevNodes)):\n",
        "            node1.prevNodes[i] = breed(node1.prevNodes[i], node2.prevNodes[i])\n",
        "    return node1"
      ]
    },
    {
      "cell_type": "code",
      "execution_count": 46,
      "metadata": {},
      "outputs": [
        {
          "data": {
            "text/plain": [
              "False"
            ]
          },
          "execution_count": 46,
          "metadata": {},
          "output_type": "execute_result"
        }
      ],
      "source": []
    },
    {
      "cell_type": "code",
      "execution_count": 67,
      "metadata": {},
      "outputs": [
        {
          "name": "stdout",
          "output_type": "stream",
          "text": [
            "-7.941808590356683\n"
          ]
        }
      ],
      "source": [
        "wat = NeuralNetwork(3, [2, 3, 2], lambda x: x)\n",
        "wat2 = NeuralNetwork(3, [2, 3 ,2], lambda x: x)\n",
        "wat3 = NeuralNetwork.breed(wat, wat2, 0.02)\n",
        "wat3.setVal([1, 7, 101])\n",
        "print(wat3.getResult())"
      ]
    },
    {
      "cell_type": "code",
      "execution_count": 7,
      "metadata": {},
      "outputs": [
        {
          "name": "stdout",
          "output_type": "stream",
          "text": [
            "[1, 2]\n",
            "[4, 2]\n",
            "[4, 2]\n",
            "[4, 5]\n",
            "[4, 5]\n"
          ]
        }
      ],
      "source": [
        "class a:\n",
        "    def __init__(self, v):\n",
        "        self.list = v\n",
        "    def write(self):\n",
        "        print(self.list)\n",
        "\n",
        "c = [1, 2]\n",
        "myList = a(c)\n",
        "myList2 = a(myList.list)\n",
        "myList.write()\n",
        "c[0] = 4\n",
        "myList.write()\n",
        "myList2.write()\n",
        "c[1] = 5\n",
        "myList.write()\n",
        "myList2.write()"
      ]
    },
    {
      "cell_type": "code",
      "execution_count": 54,
      "metadata": {},
      "outputs": [
        {
          "ename": "AttributeError",
          "evalue": "'list' object has no attribute 'size'",
          "output_type": "error",
          "traceback": [
            "\u001b[1;31m---------------------------------------------------------------------------\u001b[0m",
            "\u001b[1;31mAttributeError\u001b[0m                            Traceback (most recent call last)",
            "\u001b[1;32m<ipython-input-54-1e5c51d83028>\u001b[0m in \u001b[0;36m<module>\u001b[1;34m\u001b[0m\n\u001b[1;32m----> 1\u001b[1;33m \u001b[0mn\u001b[0m\u001b[1;33m.\u001b[0m\u001b[0mgetResult\u001b[0m\u001b[1;33m(\u001b[0m\u001b[1;33m)\u001b[0m\u001b[1;33m\u001b[0m\u001b[1;33m\u001b[0m\u001b[0m\n\u001b[0m",
            "\u001b[1;32m<ipython-input-51-99d6a869139f>\u001b[0m in \u001b[0;36mgetResult\u001b[1;34m(self)\u001b[0m\n\u001b[0;32m     26\u001b[0m         \u001b[1;32melse\u001b[0m\u001b[1;33m:\u001b[0m\u001b[1;33m\u001b[0m\u001b[1;33m\u001b[0m\u001b[0m\n\u001b[0;32m     27\u001b[0m             \u001b[0msum\u001b[0m \u001b[1;33m=\u001b[0m \u001b[0mself\u001b[0m\u001b[1;33m.\u001b[0m\u001b[0mbias\u001b[0m\u001b[1;33m\u001b[0m\u001b[1;33m\u001b[0m\u001b[0m\n\u001b[1;32m---> 28\u001b[1;33m             \u001b[1;32mfor\u001b[0m \u001b[0mi\u001b[0m \u001b[1;32min\u001b[0m \u001b[0mrange\u001b[0m\u001b[1;33m(\u001b[0m\u001b[1;36m0\u001b[0m\u001b[1;33m,\u001b[0m \u001b[0mself\u001b[0m\u001b[1;33m.\u001b[0m\u001b[0mweights\u001b[0m\u001b[1;33m.\u001b[0m\u001b[0msize\u001b[0m \u001b[1;33m-\u001b[0m \u001b[1;36m1\u001b[0m\u001b[1;33m)\u001b[0m\u001b[1;33m:\u001b[0m\u001b[1;33m\u001b[0m\u001b[1;33m\u001b[0m\u001b[0m\n\u001b[0m\u001b[0;32m     29\u001b[0m                 \u001b[0msum\u001b[0m \u001b[1;33m+=\u001b[0m \u001b[0mself\u001b[0m\u001b[1;33m.\u001b[0m\u001b[0mweights\u001b[0m\u001b[1;33m[\u001b[0m\u001b[0mi\u001b[0m\u001b[1;33m]\u001b[0m\u001b[1;33m*\u001b[0m\u001b[0mself\u001b[0m\u001b[1;33m.\u001b[0m\u001b[0mprevNodes\u001b[0m\u001b[1;33m[\u001b[0m\u001b[0mi\u001b[0m\u001b[1;33m]\u001b[0m\u001b[1;33m.\u001b[0m\u001b[0mgetResult\u001b[0m\u001b[1;33m(\u001b[0m\u001b[1;33m)\u001b[0m\u001b[1;33m\u001b[0m\u001b[1;33m\u001b[0m\u001b[0m\n\u001b[0;32m     30\u001b[0m             \u001b[1;32mreturn\u001b[0m \u001b[0msum\u001b[0m\u001b[1;33m\u001b[0m\u001b[1;33m\u001b[0m\u001b[0m\n",
            "\u001b[1;31mAttributeError\u001b[0m: 'list' object has no attribute 'size'"
          ]
        }
      ],
      "source": []
    },
    {
      "cell_type": "code",
      "execution_count": null,
      "metadata": {},
      "outputs": [],
      "source": []
    }
  ],
  "metadata": {
    "kernelspec": {
      "display_name": "Python 3",
      "language": "python",
      "name": "python3"
    },
    "language_info": {
      "codemirror_mode": {
        "name": "ipython",
        "version": 3
      },
      "file_extension": ".py",
      "mimetype": "text/x-python",
      "name": "python",
      "nbconvert_exporter": "python",
      "pygments_lexer": "ipython3",
      "version": "3.8.3"
    }
  },
  "nbformat": 4,
  "nbformat_minor": 4
}
