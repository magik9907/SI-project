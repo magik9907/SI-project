{
 "cells": [
  {
   "cell_type": "code",
   "execution_count": 133,
   "metadata": {},
   "outputs": [],
   "source": [
    "import numpy as np\n",
    "import scipy as scp\n",
    "from random import seed\n",
    "from random import random\n",
    "from random import randrange\n",
    "from random import uniform"
   ]
  },
  {
   "cell_type": "code",
   "execution_count": 167,
   "metadata": {},
   "outputs": [],
   "source": [
    "class BaseNode:\n",
    "    def __init__(self, function):\n",
    "        self.function = function\n",
    "        self.bias = random()\n",
    "    def mutateBias(self):\n",
    "        self.bias *= uniform(0, 2)\n",
    "\n",
    "class StartNode(BaseNode):\n",
    "    def __init__(self, function):\n",
    "        super().__init__(function)\n",
    "        self.values = []\n",
    "        self.weights = []\n",
    "    def mutate(self, probability):\n",
    "        if random() < probability:\n",
    "            print('mutating!')\n",
    "            num = randrange(len(self.weights))\n",
    "            if num == len(self.weights):\n",
    "                self.mutateBias()\n",
    "            else:\n",
    "                self.weights[num] *= uniform(0, 2)\n",
    "    def setVal(self, val):\n",
    "        self.values = val\n",
    "        self.weights = []\n",
    "        for i in range(0, len(val)):\n",
    "            self.weights.append(uniform(-1,1))\n",
    "    def getResult(self):\n",
    "        if not self.values:\n",
    "            raise Exception('No values')\n",
    "        else:\n",
    "            sum = self.bias\n",
    "            for i in range(len(self.values)):\n",
    "                sum = self.weights[i]*self.values[i]\n",
    "            return self.function(sum)\n",
    "\n",
    "class Node(BaseNode):\n",
    "    def __init__(self, function):\n",
    "        super().__init__(function)\n",
    "        self.prevNodes = []\n",
    "        self.weights = []\n",
    "    def mutate(self, probability):\n",
    "        if random() < probability:\n",
    "            print('mutating!')\n",
    "            num = randrange(len(self.weights))\n",
    "            if num == len(self.weights):\n",
    "                self.mutateBias()\n",
    "            elif num < len(self.weights):\n",
    "                self.weights[num] *= uniform(0, 2)\n",
    "        for n in self.prevNodes:\n",
    "            n.mutate(probability)\n",
    "    def addPrevNode(self, node):\n",
    "        self.prevNodes.append(node)\n",
    "        self.weights.append(uniform(-1, 1))\n",
    "    def addPrevNodes(self, nodes):\n",
    "        for n in nodes:\n",
    "            self.addPrevNode(n)\n",
    "    def getResult(self):\n",
    "        if not self.prevNodes:\n",
    "            raise Exception('No previous nodes')\n",
    "        else:\n",
    "            sum = self.bias\n",
    "            for i in range(len(self.weights)):\n",
    "                sum += self.weights[i]*self.prevNodes[i].getResult()\n",
    "            return self.function(sum)\n",
    "\n",
    "class NeuralNetwork:\n",
    "    def __init__(self, shape, function):\n",
    "        self.startNodes = []\n",
    "        if not shape:\n",
    "            self.startNodes.append(StartNode(function))\n",
    "            self.endNode = self.startNodes[0]\n",
    "        else:\n",
    "            for i in range(shape[0]):\n",
    "                self.startNodes.append(StartNode(function))\n",
    "            shape.remove(shape[0])\n",
    "            prev = self.startNodes\n",
    "            for n in shape:\n",
    "                if n < 1:\n",
    "                    raise Exception('No layer can have less than one node')\n",
    "                tmp = []\n",
    "                for i in range(n):\n",
    "                    tmp.append(Node(function))\n",
    "                    tmp[i].addPrevNodes(prev)\n",
    "                prev = tmp\n",
    "            self.endNode = Node(function)\n",
    "            self.endNode.addPrevNodes(prev)\n",
    "    def getResult(self):\n",
    "        return self.endNode.getResult()\n",
    "    def setVal(self, value):\n",
    "        for n in self.startNodes:\n",
    "            n.setVal(value)\n",
    "    def mutate(self, probability, mutProb):\n",
    "        if random() < probability:\n",
    "            self.endNode.mutate(mutProb)"
   ]
  },
  {
   "cell_type": "code",
   "execution_count": 126,
   "metadata": {},
   "outputs": [],
   "source": []
  },
  {
   "cell_type": "code",
   "execution_count": 169,
   "metadata": {},
   "outputs": [
    {
     "name": "stdout",
     "output_type": "stream",
     "text": [
      "1.9596642689866535\n",
      "mutating!\n",
      "mutating!\n",
      "mutating!\n",
      "mutating!\n",
      "mutating!\n",
      "mutating!\n",
      "mutating!\n",
      "mutating!\n",
      "mutating!\n"
     ]
    }
   ],
   "source": [
    "wat = NeuralNetwork([2, 3, 2], lambda x: x)\n",
    "wat.setVal([4, 6, 7])\n",
    "print(wat.getResult())\n",
    "wat.mutate(1, 0.4)"
   ]
  },
  {
   "cell_type": "code",
   "execution_count": 92,
   "metadata": {},
   "outputs": [
    {
     "name": "stdout",
     "output_type": "stream",
     "text": [
      "[4, 4]\n"
     ]
    }
   ],
   "source": []
  },
  {
   "cell_type": "code",
   "execution_count": 54,
   "metadata": {},
   "outputs": [
    {
     "ename": "AttributeError",
     "evalue": "'list' object has no attribute 'size'",
     "output_type": "error",
     "traceback": [
      "\u001b[1;31m---------------------------------------------------------------------------\u001b[0m",
      "\u001b[1;31mAttributeError\u001b[0m                            Traceback (most recent call last)",
      "\u001b[1;32m<ipython-input-54-1e5c51d83028>\u001b[0m in \u001b[0;36m<module>\u001b[1;34m\u001b[0m\n\u001b[1;32m----> 1\u001b[1;33m \u001b[0mn\u001b[0m\u001b[1;33m.\u001b[0m\u001b[0mgetResult\u001b[0m\u001b[1;33m(\u001b[0m\u001b[1;33m)\u001b[0m\u001b[1;33m\u001b[0m\u001b[1;33m\u001b[0m\u001b[0m\n\u001b[0m",
      "\u001b[1;32m<ipython-input-51-99d6a869139f>\u001b[0m in \u001b[0;36mgetResult\u001b[1;34m(self)\u001b[0m\n\u001b[0;32m     26\u001b[0m         \u001b[1;32melse\u001b[0m\u001b[1;33m:\u001b[0m\u001b[1;33m\u001b[0m\u001b[1;33m\u001b[0m\u001b[0m\n\u001b[0;32m     27\u001b[0m             \u001b[0msum\u001b[0m \u001b[1;33m=\u001b[0m \u001b[0mself\u001b[0m\u001b[1;33m.\u001b[0m\u001b[0mbias\u001b[0m\u001b[1;33m\u001b[0m\u001b[1;33m\u001b[0m\u001b[0m\n\u001b[1;32m---> 28\u001b[1;33m             \u001b[1;32mfor\u001b[0m \u001b[0mi\u001b[0m \u001b[1;32min\u001b[0m \u001b[0mrange\u001b[0m\u001b[1;33m(\u001b[0m\u001b[1;36m0\u001b[0m\u001b[1;33m,\u001b[0m \u001b[0mself\u001b[0m\u001b[1;33m.\u001b[0m\u001b[0mweights\u001b[0m\u001b[1;33m.\u001b[0m\u001b[0msize\u001b[0m \u001b[1;33m-\u001b[0m \u001b[1;36m1\u001b[0m\u001b[1;33m)\u001b[0m\u001b[1;33m:\u001b[0m\u001b[1;33m\u001b[0m\u001b[1;33m\u001b[0m\u001b[0m\n\u001b[0m\u001b[0;32m     29\u001b[0m                 \u001b[0msum\u001b[0m \u001b[1;33m+=\u001b[0m \u001b[0mself\u001b[0m\u001b[1;33m.\u001b[0m\u001b[0mweights\u001b[0m\u001b[1;33m[\u001b[0m\u001b[0mi\u001b[0m\u001b[1;33m]\u001b[0m\u001b[1;33m*\u001b[0m\u001b[0mself\u001b[0m\u001b[1;33m.\u001b[0m\u001b[0mprevNodes\u001b[0m\u001b[1;33m[\u001b[0m\u001b[0mi\u001b[0m\u001b[1;33m]\u001b[0m\u001b[1;33m.\u001b[0m\u001b[0mgetResult\u001b[0m\u001b[1;33m(\u001b[0m\u001b[1;33m)\u001b[0m\u001b[1;33m\u001b[0m\u001b[1;33m\u001b[0m\u001b[0m\n\u001b[0;32m     30\u001b[0m             \u001b[1;32mreturn\u001b[0m \u001b[0msum\u001b[0m\u001b[1;33m\u001b[0m\u001b[1;33m\u001b[0m\u001b[0m\n",
      "\u001b[1;31mAttributeError\u001b[0m: 'list' object has no attribute 'size'"
     ]
    }
   ],
   "source": []
  },
  {
   "cell_type": "code",
   "execution_count": null,
   "metadata": {},
   "outputs": [],
   "source": []
  }
 ],
 "metadata": {
  "kernelspec": {
   "display_name": "Python 3",
   "language": "python",
   "name": "python3"
  },
  "language_info": {
   "codemirror_mode": {
    "name": "ipython",
    "version": 3
   },
   "file_extension": ".py",
   "mimetype": "text/x-python",
   "name": "python",
   "nbconvert_exporter": "python",
   "pygments_lexer": "ipython3",
   "version": "3.8.3"
  }
 },
 "nbformat": 4,
 "nbformat_minor": 4
}
