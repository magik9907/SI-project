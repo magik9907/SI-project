{
 "cells": [
  {
   "cell_type": "code",
   "execution_count": 37,
   "metadata": {},
   "outputs": [],
   "source": [
    "import numpy as np\n",
    "#! pip install pygad\n",
    "import pygad.gann\n",
    "#!pip install sklearn\n",
    "from sklearn import preprocessing\n",
    "#!pip install ipywidgets\n",
    "#!jupyter nbextension enable --py widgetsnbextension\n",
    "#restart anaconda/jupyterlab\n",
    "from ipywidgets import widgets\n",
    "from IPython.display import display, clear_output"
   ]
  },
  {
   "cell_type": "code",
   "execution_count": 38,
   "metadata": {},
   "outputs": [],
   "source": [
    "#solutions_num - liczba rozwiązań np. 5\n",
    "#input_num - liczba neuronów w warstwie wejściowej np. 3\n",
    "#hidden_num - ilość neuronów w warstwach ukrytych np. [2] lub [5, 2]\n",
    "#output_num - liczba neuronów w warstwie wyjściowej np. 1\n",
    "#hidden_act - rodzaj funkcji aktywacji dla warstw ukrytych np. [\"relu\"] lub [\"sigmoid\", \"relu\"] (\"sigmoid\", \"relu\", \"softmax\", \"None\")\n",
    "class NeuralNetwork:\n",
    "    # Konstruktor sieci neuronowej\n",
    "    def __init__(self, input_data, output_data, solutions_num, input_layers_num, hidden_layers_num, output_layers_num, hidden_layers_act, output_layers_act):\n",
    "        if len(hidden_layers_num) != len(hidden_layers_act):\n",
    "            raise Exception('Number of hidden layers must be equal number of hidden activation functions')\n",
    "        \n",
    "        if solutions_num < 2:\n",
    "            raise Exception('At least one value is required')\n",
    "        \n",
    "        # Ustawienie danych wejściowych\n",
    "        self.input_data = input_data\n",
    "        # Ustawienie danych wyjściowych ????????????\n",
    "        self.output_data = output_data\n",
    "        # Tworzenie sieci neuronowych\n",
    "        self.instance = pygad.gann.GANN(num_solutions=solutions_num,\n",
    "                                num_neurons_input=input_layers_num,\n",
    "                                num_neurons_hidden_layers=hidden_layers_num,\n",
    "                                num_neurons_output=output_layers_num,\n",
    "                                hidden_activations=hidden_layers_act,\n",
    "                                output_activation=output_layers_act)\n",
    "        # Tablica populacji\n",
    "        self.population_array = pygad.gann.population_as_vectors(population_networks=self.instance.population_networks)\n",
    "    # Wypisanie wag każdej sieci\n",
    "    def PrintWeights(self):\n",
    "        for i, val in enumerate(self.population_array):\n",
    "            print(f'Network number: {i}')\n",
    "            for j, value in enumerate(val):\n",
    "                print(f'Weight {j}: {value}')\n",
    "            print(\"\\n\")\n",
    "\n",
    "# neural_network - instancja klasy NeuralNetwork\n",
    "# generation_num - liczba generacji(iteracji)\n",
    "# parent_num - liczba rodziców z których powstaną nowe osobniki\n",
    "# mutation_perc - procent szansy na mutację\n",
    "class GeneticAlgorithm:\n",
    "    def __init__(self, neural_network, generation_num, parent_num, mutation_perc):\n",
    "        if parent_num > neural_network.instance.num_solutions:\n",
    "            raise Exception('parents number cannot be higher than population number')\n",
    "        \n",
    "        self.instance = pygad.GA(num_generations=generation_num, \n",
    "                       num_parents_mating=parent_num, \n",
    "                       initial_population=neural_network.population_array.copy(),\n",
    "                       fitness_func=fitness_function,\n",
    "                       mutation_percent_genes=mutation_perc,\n",
    "                       on_generation=on_generation)\n",
    "    \n",
    "    def run(self):\n",
    "        self.instance.run()\n",
    "    \n",
    "    def plot_result(self):\n",
    "        self.instance.plot_result()\n",
    "        \n",
    "    def best_result(self):\n",
    "        solution, solution_fitness, solution_idx = self.instance.best_solution()\n",
    "        print(f'Solution: {solution}')\n",
    "        print(f'Solution fitness: {solution_fitness}')\n",
    "        print(f'Solution index: {solution_idx}')\n",
    "        \n",
    "# Obliczanie funkcji dopasowania\n",
    "def fitness_function(solution, solution_index):\n",
    "    global nn\n",
    "    predictions = pygad.nn.predict(last_layer=nn.instance.population_networks[solution_index],\n",
    "                                   data_inputs=nn.input_data,\n",
    "                                   problem_type=\"classification\")\n",
    "    correct_predictions = np.where(predictions == nn.output_data)[0].size\n",
    "    solution_fitness = (correct_predictions/nn.output_data.size)*100\n",
    "    return solution_fitness\n",
    "\n",
    "# Funkcja aktualizująca wagi\n",
    "def on_generation(ga_instance):\n",
    "    global nn, ga\n",
    "    \n",
    "    population_matrices = pygad.gann.population_as_matrices(population_networks=nn.instance.population_networks,\n",
    "                                                            population_vectors=ga.instance.population)\n",
    "    nn.instance.update_population_trained_weights(population_trained_weights=population_matrices)\n",
    "\n",
    "    #print(\"Generation = {generation}\".format(generation=ga.instance.generations_completed))\n",
    "    #print(\"Accuracy   = {fitness}\".format(fitness=ga.instance.best_solution()[1]))"
   ]
  },
  {
   "cell_type": "code",
   "execution_count": 39,
   "metadata": {},
   "outputs": [],
   "source": [
    "data = np.genfromtxt('diabetes.csv', delimiter=',')\n",
    "cols = data[:,:8] # pierwsze 8 kolumn\n",
    "last_cols = data[:,8] # ostatnia kolumna (nr 9)\n",
    "min_max_scaler = preprocessing.MinMaxScaler()\n",
    "data_inputs = min_max_scaler.fit_transform(cols.T).T\n",
    "data_outputs = last_cols"
   ]
  },
  {
   "cell_type": "code",
   "execution_count": 40,
   "metadata": {},
   "outputs": [
    {
     "data": {
      "image/png": "[encoded data removed]",
      "text/plain": [
       "<Figure size 432x288 with 1 Axes>"
      ]
     },
     "metadata": {
      "needs_background": "light"
     },
     "output_type": "display_data"
    },
    {
     "name": "stdout",
     "output_type": "stream",
     "text": [
      "Solution: [-0.09111914 -0.04035347  0.04463967  0.05380751  0.38997394  0.01349054\n",
      " -0.05608955  0.99094103 -0.03682982  0.0174559   0.06339885  0.08672926\n",
      "  0.01438623  0.09505997 -0.09977631 -0.76273992  0.03184367 -0.59624692\n",
      "  0.09582772  0.07622038  0.84562613  0.09816805 -0.27593662  0.01626128\n",
      "  0.03484029  0.01205797 -0.07346886  0.17245232 -0.0600077  -0.00599617\n",
      "  0.04125183 -0.09235753  0.021881    0.03174215]\n",
      "Solution fitness: 65.10416666666666\n",
      "Solution index: 0\n"
     ]
    }
   ],
   "source": [
    "nn = NeuralNetwork(input_data=data_inputs, \n",
    "                  output_data=data_outputs, \n",
    "                  solutions_num=10, \n",
    "                  input_layers_num=8, \n",
    "                  hidden_layers_num=[3, 2], \n",
    "                  output_layers_num=2,\n",
    "                  hidden_layers_act=[\"relu\", 'relu'], \n",
    "                  output_layers_act=\"softmax\")\n",
    "\n",
    "ga = GeneticAlgorithm(neural_network=nn,\n",
    "                      generation_num=10,\n",
    "                      parent_num=2,\n",
    "                      mutation_perc=5)\n",
    "ga.run()\n",
    "ga.plot_result()\n",
    "ga.best_result()"
   ]
  },
  {
   "cell_type": "code",
   "execution_count": 42,
   "metadata": {},
   "outputs": [
    {
     "data": {
      "application/vnd.jupyter.widget-view+json": {
       "model_id": "87c572b8f0e7484e9787462e30caad85",
       "version_major": 2,
       "version_minor": 0
      },
      "text/plain": [
       "IntText(value=10, description='Solution number(int)', layout=Layout(width='70%'), style=DescriptionStyle(descr…"
      ]
     },
     "metadata": {},
     "output_type": "display_data"
    },
    {
     "data": {
      "application/vnd.jupyter.widget-view+json": {
       "model_id": "a9b75d4a66564729bfb65322b0746110",
       "version_major": 2,
       "version_minor": 0
      },
      "text/plain": [
       "IntText(value=8, description='Input layers number(int)', layout=Layout(width='70%'), style=DescriptionStyle(de…"
      ]
     },
     "metadata": {},
     "output_type": "display_data"
    },
    {
     "data": {
      "application/vnd.jupyter.widget-view+json": {
       "model_id": "98962c4f41b94555a3b4e10fd5e4ce06",
       "version_major": 2,
       "version_minor": 0
      },
      "text/plain": [
       "Text(value='2, 2', description='Hidden layers number(ints seperated by comma)', layout=Layout(width='70%'), st…"
      ]
     },
     "metadata": {},
     "output_type": "display_data"
    },
    {
     "data": {
      "application/vnd.jupyter.widget-view+json": {
       "model_id": "e358972eeb76454eba2bed8c7910a126",
       "version_major": 2,
       "version_minor": 0
      },
      "text/plain": [
       "IntText(value=2, description='Output layers number(int)', layout=Layout(width='70%'), style=DescriptionStyle(d…"
      ]
     },
     "metadata": {},
     "output_type": "display_data"
    },
    {
     "data": {
      "application/vnd.jupyter.widget-view+json": {
       "model_id": "e523304174204d4c91717dec66177561",
       "version_major": 2,
       "version_minor": 0
      },
      "text/plain": [
       "Text(value='relu, relu', description='Hidden layers activation function(strings separated by comma)', layout=L…"
      ]
     },
     "metadata": {},
     "output_type": "display_data"
    },
    {
     "data": {
      "application/vnd.jupyter.widget-view+json": {
       "model_id": "1bbdb70e0aea4bf3862ab9908e63d742",
       "version_major": 2,
       "version_minor": 0
      },
      "text/plain": [
       "Text(value='softmax', description='Output layers activation function(string)', layout=Layout(width='70%'), sty…"
      ]
     },
     "metadata": {},
     "output_type": "display_data"
    },
    {
     "data": {
      "application/vnd.jupyter.widget-view+json": {
       "model_id": "02f68f18e66345af9c78355320cf33d8",
       "version_major": 2,
       "version_minor": 0
      },
      "text/plain": [
       "IntText(value=100, description='Generations number(int)', layout=Layout(width='70%'), style=DescriptionStyle(d…"
      ]
     },
     "metadata": {},
     "output_type": "display_data"
    },
    {
     "data": {
      "application/vnd.jupyter.widget-view+json": {
       "model_id": "191aeec63de94bc390429dac1199606a",
       "version_major": 2,
       "version_minor": 0
      },
      "text/plain": [
       "IntText(value=5, description='Parents number(int)', layout=Layout(width='70%'), style=DescriptionStyle(descrip…"
      ]
     },
     "metadata": {},
     "output_type": "display_data"
    },
    {
     "data": {
      "application/vnd.jupyter.widget-view+json": {
       "model_id": "37a3dc2db3d64bba8155a1e16abed181",
       "version_major": 2,
       "version_minor": 0
      },
      "text/plain": [
       "IntText(value=5, description='Mutation percentage(int)', layout=Layout(width='70%'), style=DescriptionStyle(de…"
      ]
     },
     "metadata": {},
     "output_type": "display_data"
    },
    {
     "data": {
      "application/vnd.jupyter.widget-view+json": {
       "model_id": "989bfd30207244cbafde4492d6801cd4",
       "version_major": 2,
       "version_minor": 0
      },
      "text/plain": [
       "Button(button_style='success', description='Submit', style=ButtonStyle())"
      ]
     },
     "metadata": {},
     "output_type": "display_data"
    },
    {
     "data": {
      "application/vnd.jupyter.widget-view+json": {
       "model_id": "f3e92bb7316d439da96c40a853c96c3a",
       "version_major": 2,
       "version_minor": 0
      },
      "text/plain": [
       "Output()"
      ]
     },
     "metadata": {},
     "output_type": "display_data"
    }
   ],
   "source": [
    "style = {'description_width': 'initial'}\n",
    "layout=widgets.Layout(width='70%')\n",
    "\n",
    "# Defining inputs\n",
    "solnum = widgets.IntText(value='10', description='Solution number(int)', style=style, layout=layout)\n",
    "iln = widgets.IntText(value='8', description='Input layers number(int)', style=style, layout=layout)\n",
    "hln = widgets.Text(value='2, 2', description='Hidden layers number(ints seperated by comma)', style=style, layout=layout)\n",
    "oln = widgets.IntText(value='2', description='Output layers number(int)', style=style, layout=layout)\n",
    "hla = widgets.Text(value='relu, relu', description='Hidden layers activation function(strings separated by comma)', style=style, layout=layout)\n",
    "ola = widgets.Text(value='softmax', description='Output layers activation function(string)', style=style, layout=layout)\n",
    "gennum = widgets.IntText(value='100', description='Generations number(int)', style=style, layout=layout)\n",
    "parnum = widgets.IntText(value='5', description='Parents number(int)', style=style, layout=layout)\n",
    "mutperc = widgets.IntText(value='5', description='Mutation percentage(int)', style=style, layout=layout)\n",
    "\n",
    "# Displaying inputs\n",
    "display(solnum)\n",
    "display(iln)\n",
    "display(hln)\n",
    "display(oln)\n",
    "display(hla)\n",
    "display(ola)\n",
    "display(gennum)\n",
    "display(parnum)\n",
    "display(mutperc)\n",
    "\n",
    "# Defining button\n",
    "btn = widgets.Button(description=\"Submit\", button_style='success')\n",
    "\n",
    "# Defining output field\n",
    "out = widgets.Output()\n",
    "\n",
    "# Button handler\n",
    "def on_btn_clicked(b):\n",
    "    with out:\n",
    "        global nn, ga\n",
    "        # Clearing output\n",
    "        clear_output()\n",
    "        \n",
    "        # Layers to int array\n",
    "        a = hln.value.split(',')\n",
    "        a = list(map(int, a))\n",
    "        \n",
    "        # Layers act. func. to string array\n",
    "        b = hla.value.replace(\" \", \"\").split(',')\n",
    "        \n",
    "        # Creating neural network\n",
    "        nn = NeuralNetwork(input_data=data_inputs, \n",
    "                      output_data=data_outputs, \n",
    "                      solutions_num=solnum.value, \n",
    "                      input_layers_num=iln.value, \n",
    "                      hidden_layers_num=a, \n",
    "                      output_layers_num=oln.value,\n",
    "                      hidden_layers_act=b, \n",
    "                      output_layers_act=ola.value)\n",
    "\n",
    "        # Creating genetic algorithm\n",
    "        ga = GeneticAlgorithm(neural_network=nn,\n",
    "                          generation_num=gennum.value,\n",
    "                          parent_num=parnum.value,\n",
    "                          mutation_perc=mutperc.value)\n",
    "        ga.run()\n",
    "        ga.plot_result()\n",
    "        ga.best_result()\n",
    "\n",
    "# Setting handler\n",
    "btn.on_click(on_btn_clicked)\n",
    "\n",
    "# Displaying button and output\n",
    "display(btn)\n",
    "display(out)"
   ]
  }
 ],
 "metadata": {
  "kernelspec": {
   "display_name": "Python 3",
   "language": "python",
   "name": "python3"
  },
  "language_info": {
   "codemirror_mode": {
    "name": "ipython",
    "version": 3
   },
   "file_extension": ".py",
   "mimetype": "text/x-python",
   "name": "python",
   "nbconvert_exporter": "python",
   "pygments_lexer": "ipython3",
   "version": "3.8.5"
  }
 },
 "nbformat": 4,
 "nbformat_minor": 4
}
